{
 "cells": [
  {
   "cell_type": "code",
   "execution_count": 1,
   "id": "52b9b2a4-36b0-4f30-8112-7170fe113660",
   "metadata": {},
   "outputs": [],
   "source": [
    "import numpy as np\n",
    "from array import array\n",
    "import matplotlib.pyplot as plt\n",
    "import matplotlib.cm as cm"
   ]
  },
  {
   "cell_type": "code",
   "execution_count": 5,
   "id": "e1bca624-2b56-438c-97fc-3f01f4d91810",
   "metadata": {},
   "outputs": [],
   "source": [
    "dirin='/home/rdavis39/CLIM470/CLIM-470-Numerical-Weather-Prediction/Project/'\n",
    "# zDfil='gh.dat'\n",
    "# uDfil='uwnd.dat'\n",
    "# vDfil='vwnd.dat'\n",
    "topo_file = \"topo.dat\""
   ]
  },
  {
   "cell_type": "code",
   "execution_count": 3,
   "id": "152db7f2-f6b7-48ed-a7e5-c8d53d216ee0",
   "metadata": {},
   "outputs": [],
   "source": [
    "nx=12\n",
    "ny=4\n",
    "recl=(nx*ny)*4\n",
    "topo_bin=np.zeros((ny,nx))"
   ]
  },
  {
   "cell_type": "code",
   "execution_count": 14,
   "id": "3e0c95cf-9500-402d-88b6-de4352a3e7f6",
   "metadata": {},
   "outputs": [],
   "source": [
    "ds_topo_bin = open(dirin+topo_file,'rb')\n",
    "\n",
    "tmp = ds_topo_bin.read(recl)\n",
    "tmp1 = array('f',tmp)\n",
    "#tmp2=tmp1[1:-1] #for fortran sequential\n",
    "ds_topo_bin=np.reshape(tmp1,(ny,nx))"
   ]
  },
  {
   "cell_type": "code",
   "execution_count": 10,
   "id": "91694237-6bc6-44bb-9bb3-4cadddc1c5fb",
   "metadata": {},
   "outputs": [
    {
     "data": {
      "text/plain": [
       "array('f', [0.0, 0.0, 0.0, 0.0, 0.0, 2000.0, 0.0, 0.0, 0.0, 0.0, 0.0, 0.0, 0.0, 0.0, 0.0, 0.0, 0.0, 2000.0, 0.0, 0.0, 0.0, 0.0, 0.0, 0.0, 0.0, 0.0, 0.0, 0.0, 0.0, 2000.0, 0.0, 0.0, 0.0, 0.0, 0.0, 0.0, 0.0, 0.0, 0.0, 0.0, 0.0, 2000.0, 0.0, 0.0, 0.0, 0.0, 0.0, 0.0])"
      ]
     },
     "execution_count": 10,
     "metadata": {},
     "output_type": "execute_result"
    }
   ],
   "source": [
    "tmp1"
   ]
  },
  {
   "cell_type": "code",
   "execution_count": 19,
   "id": "0b6106a0-49de-4091-9f6f-3a74dcc4f85d",
   "metadata": {},
   "outputs": [
    {
     "data": {
      "text/plain": [
       "Text(0.5, 1.0, 'gh snapshot')"
      ]
     },
     "execution_count": 19,
     "metadata": {},
     "output_type": "execute_result"
    },
    {
     "data": {
      "image/png": "[encoded data removed]",
      "text/plain": [
       "<Figure size 432x288 with 1 Axes>"
      ]
     },
     "metadata": {
      "needs_background": "light"
     },
     "output_type": "display_data"
    }
   ],
   "source": [
    "# plot one time \n",
    "fig, ax = plt.subplots()\n",
    "zc = ax.contourf(ds_topo_bin)\n",
    "ax.set_title('gh snapshot')"
   ]
  },
  {
   "cell_type": "code",
   "execution_count": null,
   "id": "fe83454e-1c59-4126-9489-2c47aa78bd97",
   "metadata": {},
   "outputs": [],
   "source": [
    "# plot the time average \n",
    "fig, ax = plt.subplots()\n",
    "zc = ax.contour(z_bin_mean)\n",
    "ax.set_title('gh time mean')"
   ]
  },
  {
   "cell_type": "code",
   "execution_count": 18,
   "id": "d47f9f29-785e-4ab3-9c11-cacaffc9b3c7",
   "metadata": {},
   "outputs": [
    {
     "data": {
      "image/png": "[encoded data removed]",
      "text/plain": [
       "<Figure size 432x288 with 1 Axes>"
      ]
     },
     "metadata": {
      "needs_background": "light"
     },
     "output_type": "display_data"
    }
   ],
   "source": [
    "fig, ax = plt.subplots()\n",
    "zc = ax.plot(ds_topo_bin[0,:])"
   ]
  },
  {
   "cell_type": "code",
   "execution_count": null,
   "id": "dfe7d1df-37e2-4da0-9789-504bd0bbcd79",
   "metadata": {},
   "outputs": [],
   "source": [
    "x=np.arange(0,360,2.5)\n",
    "y=np.arange(-90,90,2.5)\n",
    "fig, ax = plt.subplots(1,2,figsize=(10,3))\n",
    "zc = ax[0].contour(x,y,z_bin[-1,:,:])\n",
    "ax[0].set_title('gh snapshot')\n",
    "zc_mean = ax[1].contour(x,y,z_bin_mean)\n",
    "ax[1].set_title('gh time mean')"
   ]
  },
  {
   "cell_type": "code",
   "execution_count": null,
   "id": "28a47675-69b7-4a7d-ab59-9d4b6a22f376",
   "metadata": {},
   "outputs": [],
   "source": [
    "# plot filled contours\n",
    "fig, ax = plt.subplots(figsize=(10,4))\n",
    "zc = ax.contourf(z_bin_mean,cmap=cm.coolwarm)\n",
    "plt.colorbar(zc)\n",
    "\n",
    "# plot the contour lines using gray lines\n",
    "zl = ax.contour(z_bin_mean,cmap=cm.gray)\n",
    "ax.set_title('gh time mean')"
   ]
  },
  {
   "cell_type": "code",
   "execution_count": null,
   "id": "7a62e9e4-2cbf-4459-9d78-264dbc11c606",
   "metadata": {},
   "outputs": [],
   "source": [
    "# Plot gh and wind vectors\n",
    "fig, ax = plt.subplots(figsize=(10,3))\n",
    "zc = ax.contour(z_bin_mean[36:72,:])\n",
    "skip=(slice(None, None, 3), slice(None, None, 3))\n",
    "x=np.arange(nlon)\n",
    "y=np.arange(nlat)\n",
    "zc = ax.quiver(x[::3],y[0:36:3],u_bin_mean[36:72,:][skip], v_bin_mean[36:72,:][skip],color='grey',\n",
    "              headwidth=2,headlength=2)\n"
   ]
  },
  {
   "cell_type": "code",
   "execution_count": null,
   "id": "9056ee58-2c86-4541-86d6-bb55f7976211",
   "metadata": {},
   "outputs": [],
   "source": []
  }
 ],
 "metadata": {
  "kernelspec": {
   "display_name": "Python 3 (ipykernel)",
   "language": "python",
   "name": "python3"
  },
  "language_info": {
   "codemirror_mode": {
    "name": "ipython",
    "version": 3
   },
   "file_extension": ".py",
   "mimetype": "text/x-python",
   "name": "python",
   "nbconvert_exporter": "python",
   "pygments_lexer": "ipython3",
   "version": "3.9.9"
  }
 },
 "nbformat": 4,
 "nbformat_minor": 5
}
