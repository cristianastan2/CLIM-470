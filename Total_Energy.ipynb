{
 "cells": [
  {
   "cell_type": "code",
   "execution_count": 2,
   "id": "8638d3b4-533b-4749-a5db-5d2be3127c17",
   "metadata": {},
   "outputs": [],
   "source": [
    "from array import array\n",
    "import numpy as np\n",
    "from array import array\n",
    "import matplotlib.pyplot as plt\n",
    "import matplotlib.cm as cm"
   ]
  },
  {
   "cell_type": "code",
   "execution_count": 3,
   "id": "7fa13e8d-cad0-490c-9888-16e1bf80d4fa",
   "metadata": {},
   "outputs": [],
   "source": [
    "dirin='/home/rdavis39/CLIM470/CLIM-470-Numerical-Weather-Prediction/'\n",
    "energy_file ='totalen.dat'"
   ]
  },
  {
   "cell_type": "code",
   "execution_count": 4,
   "id": "51967b9a-491c-4742-8126-54676b8ba566",
   "metadata": {},
   "outputs": [],
   "source": [
    "# Variables\n",
    "ntime = 3    # Number of time steps\n",
    "nx = 48      # Number of grid points in x-direction\n",
    "ny = 16      # Number of grid points in y-direction\n",
    "recl=(nx*ny)*4\n",
    "total_energy=np.zeros((ntime,nx,ny))"
   ]
  },
  {
   "cell_type": "code",
   "execution_count": 5,
   "id": "29689b81-058d-4933-bb44-740cda134829",
   "metadata": {},
   "outputs": [],
   "source": [
    "ds_total_energy = open(dirin+energy_file,'rb')\n",
    "for t in range(ntime):\n",
    "    tmp = ds_total_energy.read(recl)\n",
    "    tmp1 = array('f',tmp)\n",
    "    #tmp2=tmp1[1:-1] #for fortran sequential\n",
    "    total_energy[t,:,:]=np.reshape(tmp1,(nx,ny))\n",
    "del tmp,tmp1"
   ]
  },
  {
   "cell_type": "code",
   "execution_count": 6,
   "id": "105eb157-05e8-4ba1-9cc6-9741920f75f0",
   "metadata": {},
   "outputs": [],
   "source": [
    "# Step 1: Total energy at each time step\n",
    "total_energy_all = total_energy.sum(axis=(1, 2))  # Sum over spatial dimensions (ny, nx)"
   ]
  },
  {
   "cell_type": "code",
   "execution_count": 16,
   "id": "cc62ee6e-bac1-4a55-bfba-ad698268a44a",
   "metadata": {},
   "outputs": [
    {
     "data": {
      "image/png": "[encoded data removed]",
      "text/plain": [
       "<Figure size 576x288 with 1 Axes>"
      ]
     },
     "metadata": {
      "needs_background": "light"
     },
     "output_type": "display_data"
    }
   ],
   "source": [
    "# Step 3: Compute relative change in total energy\n",
    "energy_relative_change = (total_energy_all - total_energy_all[0]) / total_energy_all[0] * 100\n",
    "\n",
    "# Step 4: Plot relative change in total energy over time\n",
    "fig, ax = plt.subplots(figsize=(8, 4))\n",
    "ax.set_ylim(0, 5)\n",
    "ax.plot(range(ntime), energy_relative_change, marker='o', label='Relative Change (%)')\n",
    "ax.set_title('Relative Change in Total Energy')\n",
    "ax.set_xlabel('Timestep')\n",
    "ax.set_ylabel('Percentage Change (%)')\n",
    "ax.axhline(0, color='k', linestyle='--', linewidth=1)  # Reference line\n",
    "ax.legend()\n",
    "plt.grid()\n",
    "plt.show()"
   ]
  },
  {
   "cell_type": "code",
   "execution_count": null,
   "id": "704e513c-6112-4f8a-b54b-6caa4043934d",
   "metadata": {},
   "outputs": [],
   "source": []
  }
 ],
 "metadata": {
  "kernelspec": {
   "display_name": "Python 3 (ORC)",
   "language": "python",
   "name": "sys_python3"
  },
  "language_info": {
   "codemirror_mode": {
    "name": "ipython",
    "version": 3
   },
   "file_extension": ".py",
   "mimetype": "text/x-python",
   "name": "python",
   "nbconvert_exporter": "python",
   "pygments_lexer": "ipython3",
   "version": "3.9.9"
  }
 },
 "nbformat": 4,
 "nbformat_minor": 5
}
